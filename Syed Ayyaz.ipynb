{
 "cells": [
  {
   "cell_type": "code",
   "execution_count": 1,
   "id": "0428522a-5a5c-4ef5-80b9-40dcace149fb",
   "metadata": {},
   "outputs": [
    {
     "name": "stdout",
     "output_type": "stream",
     "text": [
      "Hello, Python Full Stack Sudents!\n"
     ]
    }
   ],
   "source": [
    "print(\"Hello, Python Full Stack Sudents!\")"
   ]
  },
  {
   "cell_type": "code",
   "execution_count": 2,
   "id": "7cc56378-7ff9-4da2-ab00-2c457e1ed861",
   "metadata": {},
   "outputs": [
    {
     "name": "stdout",
     "output_type": "stream",
     "text": [
      "my Name is Syed Ayyaz Ur Rahman\n"
     ]
    }
   ],
   "source": [
    "print(\"my Name is Syed Ayyaz Ur Rahman\")"
   ]
  },
  {
   "cell_type": "code",
   "execution_count": 3,
   "id": "41eda37f-cc62-4588-a127-bccc2e910827",
   "metadata": {},
   "outputs": [
    {
     "name": "stdout",
     "output_type": "stream",
     "text": [
      "Ayyaz 19 8.5 True\n"
     ]
    }
   ],
   "source": [
    "name =\"Ayyaz\"\n",
    "age=19\n",
    "gpa=8.5\n",
    "is_student=True\n",
    "print(name,age,gpa,is_student)"
   ]
  },
  {
   "cell_type": "code",
   "execution_count": 5,
   "id": "7613e68e-23a6-4c02-bab4-df1ed638f7bf",
   "metadata": {},
   "outputs": [
    {
     "name": "stdout",
     "output_type": "stream",
     "text": [
      "<class 'int'> <class 'float'> <class 'str'> <class 'bool'>\n"
     ]
    }
   ],
   "source": [
    "x=10\n",
    "y=3.14\n",
    "z=\"Python\"\n",
    "flag=False\n",
    "print(type(x),type(y),type(z),type(flag))"
   ]
  },
  {
   "cell_type": "code",
   "execution_count": 7,
   "id": "4e527367-048c-4902-bc68-481325103c53",
   "metadata": {},
   "outputs": [
    {
     "name": "stdout",
     "output_type": "stream",
     "text": [
      "name=Ayyaz,college=Avinash,fav prog lang=Python\n"
     ]
    }
   ],
   "source": [
    "print(\"name=Ayyaz,college=Avinash,fav prog lang=Python\")"
   ]
  },
  {
   "cell_type": "code",
   "execution_count": 8,
   "id": "dd0548f1-5a59-491d-afc9-408150f80083",
   "metadata": {},
   "outputs": [
    {
     "name": "stdout",
     "output_type": "stream",
     "text": [
      "20\n"
     ]
    }
   ],
   "source": [
    "birth_year=2005\n",
    "current_year=2025\n",
    "print(current_year-birth_year)"
   ]
  },
  {
   "cell_type": "code",
   "execution_count": 9,
   "id": "40682ae9-527e-48d2-b8fe-4648f478c170",
   "metadata": {},
   "outputs": [
    {
     "name": "stdout",
     "output_type": "stream",
     "text": [
      "False\n",
      "True\n",
      "True\n"
     ]
    }
   ],
   "source": [
    "a=10\n",
    "b=20\n",
    "print(a>b)#false\n",
    "print(a==10)#true\n",
    "print(a<b) and (b==20)#true"
   ]
  },
  {
   "cell_type": "code",
   "execution_count": 4,
   "id": "c6858841-a886-47a5-a989-d005c3bd52a2",
   "metadata": {},
   "outputs": [
    {
     "name": "stdout",
     "output_type": "stream",
     "text": [
      "['Apple', 'Mango', 'Banana', 'Orange']\n",
      "Banana\n"
     ]
    }
   ],
   "source": [
    "#lists(ordered,mutable)\n",
    "\n",
    "fruits=[\"Apple\",\"Mango\",\"Banana\"]\n",
    "fruits.append(\"Orange\")\n",
    "print(fruits)\n",
    "print(fruits[2])"
   ]
  },
  {
   "cell_type": "code",
   "execution_count": 5,
   "id": "ae704d62-c7a9-4cfd-b47a-43777c619a9f",
   "metadata": {},
   "outputs": [
    {
     "name": "stdout",
     "output_type": "stream",
     "text": [
      "['Apple', 'Banana', 'Orange']\n"
     ]
    }
   ],
   "source": [
    "#lists(ordered,mutable)\n",
    "\n",
    "fruits=[\"Apple\",\"Mango\",\"Banana\"]\n",
    "fruits.append(\"Orange\")\n",
    "fruits.remove(\"Mango\")\n",
    "fruits.sort()\n",
    "print(fruits)"
   ]
  },
  {
   "cell_type": "code",
   "execution_count": 8,
   "id": "9c9a206c-27c3-47a3-a909-6cfc5700ea2f",
   "metadata": {},
   "outputs": [
    {
     "name": "stdout",
     "output_type": "stream",
     "text": [
      "red\n"
     ]
    }
   ],
   "source": [
    "#Tuples(ordered,immutable)\n",
    "colors=(\"red\",\"green\",\"blue\")\n",
    "print(colors[0])\n",
    "#colors[1]=\"yellow\"(cannot modify tuple)"
   ]
  },
  {
   "cell_type": "code",
   "execution_count": 9,
   "id": "e068e30a-9f77-4d7b-a461-35066e63142e",
   "metadata": {},
   "outputs": [
    {
     "name": "stdout",
     "output_type": "stream",
     "text": [
      "{1, 2, 3, 4, 5}\n"
     ]
    }
   ],
   "source": [
    "#Sets(unordered,Unique)\n",
    "numbers={1,2,3,4}\n",
    "numbers.add(5)\n",
    "print(numbers)"
   ]
  },
  {
   "cell_type": "code",
   "execution_count": 11,
   "id": "aef3391c-3960-43df-b391-727293b85606",
   "metadata": {},
   "outputs": [
    {
     "name": "stdout",
     "output_type": "stream",
     "text": [
      "19\n",
      "{'name': 'Ayaz', 'age': '19', 'course': 'Full Stack Python'}\n"
     ]
    }
   ],
   "source": [
    "#Dictioneries\n",
    "student={\n",
    "    \"name\": \"Suhel\",\n",
    "    \"age\":\"19\",\n",
    "    \"course\":\"Full Stack Python\"}\n",
    "print(student[\"age\"])\n",
    "student[\"name\"]=\"Ayaz\"\n",
    "print(student)"
   ]
  },
  {
   "cell_type": "code",
   "execution_count": 12,
   "id": "dbb50038-9031-4f6b-aae4-87c590a1940e",
   "metadata": {},
   "outputs": [
    {
     "name": "stdout",
     "output_type": "stream",
     "text": [
      "dict_keys(['name', 'age', 'course', 'college'])\n",
      "dict_values(['Ayaz', '19', 'Full Stack Python', 'Avinash College'])\n"
     ]
    }
   ],
   "source": [
    "student[\"college\"]=\"Avinash College\"\n",
    "print(student.keys())\n",
    "print(student.values())"
   ]
  },
  {
   "cell_type": "code",
   "execution_count": 15,
   "id": "6764349f-3cd6-46d4-a346-72f3bac39815",
   "metadata": {},
   "outputs": [
    {
     "name": "stdout",
     "output_type": "stream",
     "text": [
      "Grade: B\n"
     ]
    }
   ],
   "source": [
    "#Conditional Statements\n",
    "marks=75\n",
    "if marks>=90:\n",
    "    print(\"Grade: A\")\n",
    "elif marks>=75:\n",
    "    print(\"Grade: B\")\n",
    "elif marks>=50:\n",
    "    print(\"Grade: C\")\n",
    "else:\n",
    "    print(\"Grade: Fail\")"
   ]
  },
  {
   "cell_type": "code",
   "execution_count": 17,
   "id": "5f4bbd54-c2ab-4b8c-ae9c-5a890a2b0a08",
   "metadata": {},
   "outputs": [
    {
     "name": "stdout",
     "output_type": "stream",
     "text": [
      "Number: 1\n",
      "Number: 2\n",
      "Number: 3\n",
      "Number: 4\n",
      "Number: 5\n",
      "Number: 6\n",
      "Number: 7\n",
      "Number: 8\n",
      "Number: 9\n"
     ]
    }
   ],
   "source": [
    "#Loops\n",
    "#for loop\n",
    "for i in range(1,10):\n",
    "    print(\"Number:\",i)"
   ]
  },
  {
   "cell_type": "code",
   "execution_count": 19,
   "id": "c7ff8aad-d3b0-49ad-9e32-4eafbd6ea894",
   "metadata": {},
   "outputs": [
    {
     "name": "stdout",
     "output_type": "stream",
     "text": [
      "Count: 1\n",
      "Count: 2\n",
      "Count: 3\n",
      "Count: 4\n",
      "Count: 5\n"
     ]
    }
   ],
   "source": [
    "#while loops\n",
    "count=1\n",
    "while count<=5:\n",
    "    print(\"Count:\",count)\n",
    "    count+=1"
   ]
  },
  {
   "cell_type": "code",
   "execution_count": 20,
   "id": "02a08561-74b6-4325-8fe2-dde3142c88d6",
   "metadata": {},
   "outputs": [
    {
     "name": "stdout",
     "output_type": "stream",
     "text": [
      "1\n",
      "2\n",
      "3\n",
      "4\n"
     ]
    }
   ],
   "source": [
    "#break & continue\n",
    "for i in range(1,10):\n",
    "    if i==5:\n",
    "        break\n",
    "    print(i)"
   ]
  },
  {
   "cell_type": "code",
   "execution_count": null,
   "id": "df23d533-d61f-4ac2-8f91-f3bfa9f9166b",
   "metadata": {},
   "outputs": [],
   "source": []
  }
 ],
 "metadata": {
  "kernelspec": {
   "display_name": "Python [conda env:base] *",
   "language": "python",
   "name": "conda-base-py"
  },
  "language_info": {
   "codemirror_mode": {
    "name": "ipython",
    "version": 3
   },
   "file_extension": ".py",
   "mimetype": "text/x-python",
   "name": "python",
   "nbconvert_exporter": "python",
   "pygments_lexer": "ipython3",
   "version": "3.13.5"
  }
 },
 "nbformat": 4,
 "nbformat_minor": 5
}
