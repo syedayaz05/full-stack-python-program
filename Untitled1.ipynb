{
 "cells": [
  {
   "cell_type": "code",
   "execution_count": 1,
   "id": "0428522a-5a5c-4ef5-80b9-40dcace149fb",
   "metadata": {},
   "outputs": [
    {
     "name": "stdout",
     "output_type": "stream",
     "text": [
      "Hello, Python Full Stack Sudents!\n"
     ]
    }
   ],
   "source": [
    "print(\"Hello, Python Full Stack Sudents!\")"
   ]
  },
  {
   "cell_type": "code",
   "execution_count": 2,
   "id": "7cc56378-7ff9-4da2-ab00-2c457e1ed861",
   "metadata": {},
   "outputs": [
    {
     "name": "stdout",
     "output_type": "stream",
     "text": [
      "my Name is Syed Ayyaz Ur Rahman\n"
     ]
    }
   ],
   "source": [
    "print(\"my Name is Syed Ayyaz Ur Rahman\")"
   ]
  },
  {
   "cell_type": "code",
   "execution_count": 3,
   "id": "41eda37f-cc62-4588-a127-bccc2e910827",
   "metadata": {},
   "outputs": [
    {
     "name": "stdout",
     "output_type": "stream",
     "text": [
      "Ayyaz 19 8.5 True\n"
     ]
    }
   ],
   "source": [
    "name =\"Ayyaz\"\n",
    "age=19\n",
    "gpa=8.5\n",
    "is_student=True\n",
    "print(name,age,gpa,is_student)"
   ]
  },
  {
   "cell_type": "code",
   "execution_count": 5,
   "id": "7613e68e-23a6-4c02-bab4-df1ed638f7bf",
   "metadata": {},
   "outputs": [
    {
     "name": "stdout",
     "output_type": "stream",
     "text": [
      "<class 'int'> <class 'float'> <class 'str'> <class 'bool'>\n"
     ]
    }
   ],
   "source": [
    "x=10\n",
    "y=3.14\n",
    "z=\"Python\"\n",
    "flag=False\n",
    "print(type(x),type(y),type(z),type(flag))"
   ]
  },
  {
   "cell_type": "code",
   "execution_count": 7,
   "id": "4e527367-048c-4902-bc68-481325103c53",
   "metadata": {},
   "outputs": [
    {
     "name": "stdout",
     "output_type": "stream",
     "text": [
      "name=Ayyaz,college=Avinash,fav prog lang=Python\n"
     ]
    }
   ],
   "source": [
    "print(\"name=Ayyaz,college=Avinash,fav prog lang=Python\")"
   ]
  },
  {
   "cell_type": "code",
   "execution_count": 8,
   "id": "dd0548f1-5a59-491d-afc9-408150f80083",
   "metadata": {},
   "outputs": [
    {
     "name": "stdout",
     "output_type": "stream",
     "text": [
      "20\n"
     ]
    }
   ],
   "source": [
    "birth_year=2005\n",
    "current_year=2025\n",
    "print(current_year-birth_year)"
   ]
  },
  {
   "cell_type": "code",
   "execution_count": 9,
   "id": "40682ae9-527e-48d2-b8fe-4648f478c170",
   "metadata": {},
   "outputs": [
    {
     "name": "stdout",
     "output_type": "stream",
     "text": [
      "False\n",
      "True\n",
      "True\n"
     ]
    }
   ],
   "source": [
    "a=10\n",
    "b=20\n",
    "print(a>b)#false\n",
    "print(a==10)#true\n",
    "print(a<b) and (b==20)#true"
   ]
  },
  {
   "cell_type": "code",
   "execution_count": null,
   "id": "c6858841-a886-47a5-a989-d005c3bd52a2",
   "metadata": {},
   "outputs": [],
   "source": []
  }
 ],
 "metadata": {
  "kernelspec": {
   "display_name": "Python [conda env:base] *",
   "language": "python",
   "name": "conda-base-py"
  },
  "language_info": {
   "codemirror_mode": {
    "name": "ipython",
    "version": 3
   },
   "file_extension": ".py",
   "mimetype": "text/x-python",
   "name": "python",
   "nbconvert_exporter": "python",
   "pygments_lexer": "ipython3",
   "version": "3.13.5"
  }
 },
 "nbformat": 4,
 "nbformat_minor": 5
}
